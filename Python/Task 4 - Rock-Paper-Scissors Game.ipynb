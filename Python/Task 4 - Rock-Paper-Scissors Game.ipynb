{
 "cells": [
  {
   "cell_type": "code",
   "execution_count": 2,
   "id": "133d25d7",
   "metadata": {},
   "outputs": [
    {
     "name": "stdout",
     "output_type": "stream",
     "text": [
      "Choose rock, paper, or scissors: paper\n",
      "Your choice: paper\n",
      "Computer's choice: scissors\n",
      "Result: Computer wins!\n",
      "User Score: 0\n",
      "Computer Score: 1\n",
      "Do you want to play again? (yes/no): yes\n",
      "Choose rock, paper, or scissors: scissor\n",
      "Your choice: scissor\n",
      "Computer's choice: paper\n",
      "Result: Computer wins!\n",
      "User Score: 0\n",
      "Computer Score: 2\n",
      "Do you want to play again? (yes/no): yes\n",
      "Choose rock, paper, or scissors: rock\n",
      "Your choice: rock\n",
      "Computer's choice: rock\n",
      "Result: It's a tie!\n",
      "User Score: 0\n",
      "Computer Score: 2\n",
      "Do you want to play again? (yes/no): yes\n",
      "Choose rock, paper, or scissors: scissors\n",
      "Your choice: scissors\n",
      "Computer's choice: scissors\n",
      "Result: It's a tie!\n",
      "User Score: 0\n",
      "Computer Score: 2\n",
      "Do you want to play again? (yes/no): scissors\n"
     ]
    }
   ],
   "source": [
    "import random\n",
    "\n",
    "# Initialize scores\n",
    "user_score = 0\n",
    "computer_score = 0\n",
    "\n",
    "while True:\n",
    "    # User choice\n",
    "    user_choice = input(\"Choose rock, paper, or scissors: \").lower()\n",
    "    \n",
    "    # Computer choice\n",
    "    computer_choice = random.choice([\"rock\", \"paper\", \"scissors\"])\n",
    "    \n",
    "    # Determine the winner\n",
    "    if user_choice == computer_choice:\n",
    "        result = \"It's a tie!\"\n",
    "    elif (user_choice == \"rock\" and computer_choice == \"scissors\") or (user_choice == \"scissors\" and computer_choice == \"paper\") or (user_choice == \"paper\" and computer_choice == \"rock\"):\n",
    "        result = \"You win!\"\n",
    "        user_score += 1\n",
    "    else:\n",
    "        result = \"Computer wins!\"\n",
    "        computer_score += 1\n",
    "\n",
    "    # Display choices and result\n",
    "    print(f\"Your choice: {user_choice}\")\n",
    "    print(f\"Computer's choice: {computer_choice}\")\n",
    "    print(f\"Result: {result}\")\n",
    "\n",
    "    # Display scores\n",
    "    print(f\"User Score: {user_score}\")\n",
    "    print(f\"Computer Score: {computer_score}\")\n",
    "\n",
    "    # Ask to play again\n",
    "    play_again = input(\"Do you want to play again? (yes/no): \").lower()\n",
    "    if play_again != \"yes\":\n",
    "        break\n"
   ]
  },
  {
   "cell_type": "code",
   "execution_count": null,
   "id": "a242dcd8",
   "metadata": {},
   "outputs": [],
   "source": []
  }
 ],
 "metadata": {
  "kernelspec": {
   "display_name": "Python 3 (ipykernel)",
   "language": "python",
   "name": "python3"
  },
  "language_info": {
   "codemirror_mode": {
    "name": "ipython",
    "version": 3
   },
   "file_extension": ".py",
   "mimetype": "text/x-python",
   "name": "python",
   "nbconvert_exporter": "python",
   "pygments_lexer": "ipython3",
   "version": "3.9.13"
  }
 },
 "nbformat": 4,
 "nbformat_minor": 5
}
