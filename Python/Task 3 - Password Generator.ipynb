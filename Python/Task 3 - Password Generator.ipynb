{
 "cells": [
  {
   "cell_type": "code",
   "execution_count": 9,
   "id": "4253d40a",
   "metadata": {},
   "outputs": [
    {
     "name": "stdout",
     "output_type": "stream",
     "text": [
      "Enter the desired length of the password: 7\n",
      "Select complexity (lower/upper/digits/special, separated by spaces): \n",
      "  @media print {\n",
      "    .ms-editor-squiggles-container {\n",
      "      display:none !important;\n",
      "    }\n",
      "  }\n",
      "  .ms-editor-squiggles-container {\n",
      "    all: initial;\n",
      "  }A b C 11 a a \n",
      "Please select at least one character set for complexity.\n"
     ]
    }
   ],
   "source": [
    "import random\n",
    "import string\n",
    "\n",
    "# Function to generate a random password\n",
    "def generate_password(length, complexity):\n",
    "    characters = \"\"\n",
    "    if 'lower' in complexity:\n",
    "        characters += string.ascii_lowercase\n",
    "    if 'upper' in complexity:\n",
    "        characters += string.ascii_uppercase\n",
    "    if 'digits' in complexity:\n",
    "        characters += string.digits\n",
    "    if 'special' in complexity:\n",
    "        characters += string.punctuation\n",
    "\n",
    "    if not characters:\n",
    "        print(\"Please select at least one character set for complexity.\")\n",
    "        return\n",
    "\n",
    "    password = ''.join(random.choice(characters) for _ in range(length))\n",
    "    return password\n",
    "\n",
    "# Prompt the user for input\n",
    "length = int(input(\"Enter the desired length of the password: \"))\n",
    "complexity = input(\"Select complexity (lower/upper/digits/special, separated by spaces): \").split()\n",
    "\n",
    "# Generate and display the password\n",
    "password = generate_password(length, complexity)\n",
    "if password:\n",
    "    print(\"Generated Password:\", password)\n"
   ]
  },
  {
   "cell_type": "code",
   "execution_count": null,
   "id": "819cbc56",
   "metadata": {},
   "outputs": [],
   "source": []
  }
 ],
 "metadata": {
  "kernelspec": {
   "display_name": "Python 3 (ipykernel)",
   "language": "python",
   "name": "python3"
  },
  "language_info": {
   "codemirror_mode": {
    "name": "ipython",
    "version": 3
   },
   "file_extension": ".py",
   "mimetype": "text/x-python",
   "name": "python",
   "nbconvert_exporter": "python",
   "pygments_lexer": "ipython3",
   "version": "3.9.13"
  }
 },
 "nbformat": 4,
 "nbformat_minor": 5
}
