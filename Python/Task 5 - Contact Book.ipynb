{
 "cells": [
  {
   "cell_type": "code",
   "execution_count": 1,
   "id": "97f738ed",
   "metadata": {},
   "outputs": [],
   "source": [
    "# import library\n",
    "from tkinter import *\n",
    "from tkinter import messagebox"
   ]
  },
  {
   "cell_type": "code",
   "execution_count": 2,
   "id": "7860d097",
   "metadata": {},
   "outputs": [],
   "source": [
    "# address book - Initialize window\n",
    "root = Tk()\n",
    "root.geometry('700x550')\n",
    "root.config(bg = '#d3f3f5')\n",
    "root.title('PythonGeeks Contact Book')\n",
    "root.resizable(0,0)\n",
    "contactlist = [\n",
    "    ['Siddharth Nigam','369854712'],\n",
    "    ['Gaurav Patil', '521155222'],\n",
    "    ['Abhishek Nikam', '78945614'],\n",
    "    ['Sakshi Gaikwad', '58745246'],\n",
    "    ['Mohit Paul', '5846975'],\n",
    "    ['Karan Patel', '5647892'],\n",
    "    ['Sam Sharma', '89685320'],\n",
    "    ['John Maheshwari', '98564785'],\n",
    "    ['Ganesh Pawar','85967412']\n",
    "    ]\n",
    " \n",
    "Name = StringVar()\n",
    "Number = StringVar()"
   ]
  },
  {
   "cell_type": "code",
   "execution_count": 3,
   "id": "8a1f4aaf",
   "metadata": {},
   "outputs": [],
   "source": [
    "#PythonGeeks - create frame\n",
    "frame = Frame(root)\n",
    "frame.pack(side = RIGHT)\n",
    " \n",
    "scroll = Scrollbar(frame, orient=VERTICAL)\n",
    "select = Listbox(frame, yscrollcommand=scroll.set, font=('Times new roman' ,16), bg=\"#f0fffc\", width=20, height=20, borderwidth=3, relief= \"groove\")\n",
    "scroll.config (command=select.yview)\n",
    "scroll.pack(side=RIGHT, fill=Y)\n",
    "select.pack(side=LEFT,  fill=BOTH, expand=1)"
   ]
  },
  {
   "cell_type": "code",
   "execution_count": 4,
   "id": "07d63b32",
   "metadata": {},
   "outputs": [],
   "source": [
    "#PythonGeeks - function to get select value\n",
    " \n",
    "def Selected():\n",
    "    print(\"hello\",len(select.curselection()))\n",
    "    if len(select.curselection())==0:\n",
    "        messagebox.showerror(\"Error\", \"Please Select the Name\")\n",
    "    else:\n",
    "        return int(select.curselection()[0])"
   ]
  },
  {
   "cell_type": "code",
   "execution_count": 5,
   "id": "1434a246",
   "metadata": {},
   "outputs": [],
   "source": [
    "#PythonGeeks -fun to add new contact\n",
    "def AddContact():\n",
    "    if Name.get()!=\"\" and Number.get()!=\"\":\n",
    "        contactlist.append([Name.get() ,Number.get()])\n",
    "        print(contactlist)\n",
    "        Select_set()\n",
    "        EntryReset()\n",
    "        messagebox.showinfo(\"Confirmation\", \"Successfully Add New Contact\")\n",
    " \n",
    "    else:\n",
    "        messagebox.showerror(\"Error\",\"Please fill the information\")\n",
    " \n",
    "def UpdateDetail():\n",
    "    if Name.get() and Number.get():\n",
    "        contactlist[Selected()] = [Name.get(), Number.get()]\n",
    "   \n",
    "        messagebox.showinfo(\"Confirmation\", \"Successfully Update Contact\")\n",
    "        EntryReset()\n",
    "        Select_set()\n",
    " \n",
    "    elif not(Name.get()) and not(Number.get()) and not(len(select.curselection())==0):\n",
    "        messagebox.showerror(\"Error\", \"Please fill the information\")\n",
    " \n",
    "    else:\n",
    "        if len(select.curselection())==0:\n",
    "            messagebox.showerror(\"Error\", \"Please Select the Name and \\n press Load button\")\n",
    "        else:\n",
    "            message1 = \"\"\"To Load the all information of \\n\n",
    "                          selected row press Load button\\n.\n",
    "                          \"\"\"\n",
    "            messagebox.showerror(\"Error\", message1)\n",
    "def EntryReset():\n",
    "    Name.set('')\n",
    "    Number.set('')"
   ]
  },
  {
   "cell_type": "code",
   "execution_count": 6,
   "id": "6b815d51",
   "metadata": {},
   "outputs": [],
   "source": [
    "def Delete_Entry():\n",
    "    if len(select.curselection())!=0:\n",
    "        result=messagebox.askyesno('Confirmation','You Want to Delete Contact\\n Which you selected')\n",
    "        if result==True:\n",
    "            del contactlist[Selected()]\n",
    "            Select_set()\n",
    "    else:\n",
    "        messagebox.showerror(\"Error\", 'Please select the Contact')\n",
    " \n",
    "def VIEW():\n",
    "    NAME, PHONE = contactlist[Selected()]\n",
    "    Name.set(NAME)\n",
    "    Number.set(PHONE)"
   ]
  },
  {
   "cell_type": "code",
   "execution_count": 7,
   "id": "64ea71a1",
   "metadata": {},
   "outputs": [],
   "source": [
    "# exit game window  \n",
    "def EXIT():\n",
    "    root.destroy() \n",
    " \n",
    "def Select_set() :\n",
    "    contactlist.sort()\n",
    "    select.delete(0,END)\n",
    "    for name,phone in contactlist :\n",
    "        select.insert (END, name)\n",
    "Select_set()"
   ]
  },
  {
   "cell_type": "code",
   "execution_count": 8,
   "id": "24ff9102",
   "metadata": {},
   "outputs": [],
   "source": [
    "#PythonGeeks - define buttons labels and entry widget\n",
    "Label(root, text = 'Name', font=(\"Times new roman\",22,\"bold\"), bg = 'SlateGray3').place(x= 30, y=20)\n",
    "Entry(root, textvariable = Name, width=30).place(x= 200, y=30)\n",
    "Label(root, text = 'Contact No.', font=(\"Times new roman\",20,\"bold\"),bg = 'SlateGray3').place(x= 30, y=70)\n",
    "Entry(root, textvariable = Number, width=30).place(x= 200, y=80)\n",
    " \n",
    "Button(root,text=\" ADD\", font='Helvetica 18 bold',bg='#e8c1c7', command = AddContact, padx=20). place(x= 50, y=140)\n",
    "Button(root,text=\"EDIT\", font='Helvetica 18 bold',bg='#e8c1c7',command = UpdateDetail, padx=20).place(x= 50, y=200)\n",
    "Button(root,text=\"DELETE\", font='Helvetica 18 bold',bg='#e8c1c7',command = Delete_Entry, padx=20).place(x= 50, y=260)\n",
    "Button(root,text=\"VIEW\", font='Helvetica 18 bold',bg='#e8c1c7', command = VIEW).place(x= 50, y=325)\n",
    "Button(root,text=\"RESET\", font='Helvetica 18 bold',bg='#e8c1c7', command = EntryReset).place(x= 50, y=390)\n",
    "Button(root,text=\"EXIT\", font='Helvetica 24 bold',bg='tomato', command = EXIT).place(x= 250, y=470)\n",
    " \n",
    "root.mainloop()"
   ]
  },
  {
   "cell_type": "code",
   "execution_count": null,
   "id": "48c76966",
   "metadata": {},
   "outputs": [],
   "source": []
  }
 ],
 "metadata": {
  "kernelspec": {
   "display_name": "Python 3 (ipykernel)",
   "language": "python",
   "name": "python3"
  },
  "language_info": {
   "codemirror_mode": {
    "name": "ipython",
    "version": 3
   },
   "file_extension": ".py",
   "mimetype": "text/x-python",
   "name": "python",
   "nbconvert_exporter": "python",
   "pygments_lexer": "ipython3",
   "version": "3.9.13"
  }
 },
 "nbformat": 4,
 "nbformat_minor": 5
}
